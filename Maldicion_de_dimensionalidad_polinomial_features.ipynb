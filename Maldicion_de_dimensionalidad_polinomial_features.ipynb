{
 "cells": [
  {
   "cell_type": "markdown",
   "metadata": {},
   "source": [
    "# Maldición de dimensionalidad y polynomial features"
   ]
  },
  {
   "cell_type": "markdown",
   "metadata": {},
   "source": [
    "Nancy Patricia Girón Muñoz"
   ]
  },
  {
   "cell_type": "code",
   "execution_count": 1,
   "metadata": {},
   "outputs": [],
   "source": [
    "from sklearn.preprocessing import PolynomialFeatures\n",
    "import numpy as np"
   ]
  },
  {
   "cell_type": "markdown",
   "metadata": {},
   "source": [
    "## 1 Variable"
   ]
  },
  {
   "cell_type": "code",
   "execution_count": 2,
   "metadata": {},
   "outputs": [
    {
     "data": {
      "text/plain": [
       "array([[0.9082766 ],\n",
       "       [0.64105941],\n",
       "       [0.14120948],\n",
       "       [0.9661319 ],\n",
       "       [0.06680915]])"
      ]
     },
     "execution_count": 2,
     "metadata": {},
     "output_type": "execute_result"
    }
   ],
   "source": [
    "x = np.random.rand(5,1)\n",
    "x"
   ]
  },
  {
   "cell_type": "code",
   "execution_count": 3,
   "metadata": {},
   "outputs": [
    {
     "data": {
      "text/plain": [
       "array([[1.00000000e+00, 9.08276599e-01, 8.24966380e-01, 7.49297658e-01],\n",
       "       [1.00000000e+00, 6.41059409e-01, 4.10957166e-01, 2.63447958e-01],\n",
       "       [1.00000000e+00, 1.41209476e-01, 1.99401161e-02, 2.81573334e-03],\n",
       "       [1.00000000e+00, 9.66131904e-01, 9.33410855e-01, 9.01798006e-01],\n",
       "       [1.00000000e+00, 6.68091516e-02, 4.46346273e-03, 2.98200158e-04]])"
      ]
     },
     "execution_count": 3,
     "metadata": {},
     "output_type": "execute_result"
    }
   ],
   "source": [
    "poly = PolynomialFeatures(3)\n",
    "poly.fit_transform(x)"
   ]
  },
  {
   "cell_type": "markdown",
   "metadata": {},
   "source": [
    "## 2 Variables"
   ]
  },
  {
   "cell_type": "code",
   "execution_count": 4,
   "metadata": {},
   "outputs": [
    {
     "data": {
      "text/plain": [
       "array([[0.65291912, 0.50367968],\n",
       "       [0.50085083, 0.32128426],\n",
       "       [0.23449103, 0.71830793],\n",
       "       [0.25276477, 0.06981957],\n",
       "       [0.52637757, 0.4789086 ]])"
      ]
     },
     "execution_count": 4,
     "metadata": {},
     "output_type": "execute_result"
    }
   ],
   "source": [
    "x1 = np.random.rand(5,2)\n",
    "x1"
   ]
  },
  {
   "cell_type": "code",
   "execution_count": 5,
   "metadata": {},
   "outputs": [
    {
     "data": {
      "text/plain": [
       "array([[1.00000000e+00, 6.52919116e-01, 5.03679679e-01, 4.26303372e-01,\n",
       "        3.28862091e-01, 2.53693219e-01, 2.78341620e-01, 2.14720345e-01,\n",
       "        1.65641152e-01, 1.27780119e-01],\n",
       "       [1.00000000e+00, 5.00850832e-01, 3.21284260e-01, 2.50851556e-01,\n",
       "        1.60915489e-01, 1.03223576e-01, 1.25639211e-01, 8.05946565e-02,\n",
       "        5.16996137e-02, 3.31641101e-02],\n",
       "       [1.00000000e+00, 2.34491031e-01, 7.18307931e-01, 5.49860437e-02,\n",
       "        1.68436767e-01, 5.15966284e-01, 1.28937341e-02, 3.94969113e-02,\n",
       "        1.20989466e-01, 3.70622674e-01],\n",
       "       [1.00000000e+00, 2.52764765e-01, 6.98195683e-02, 6.38900266e-02,\n",
       "        1.76479268e-02, 4.87477212e-03, 1.61491476e-02, 4.46077408e-03,\n",
       "        1.23217063e-03, 3.40354485e-04],\n",
       "       [1.00000000e+00, 5.26377574e-01, 4.78908599e-01, 2.77073351e-01,\n",
       "        2.52086747e-01, 2.29353446e-01, 1.45845198e-01, 1.32692810e-01,\n",
       "        1.20726511e-01, 1.09839338e-01]])"
      ]
     },
     "execution_count": 5,
     "metadata": {},
     "output_type": "execute_result"
    }
   ],
   "source": [
    "poly1 = PolynomialFeatures(3)\n",
    "poly1.fit_transform(x1)"
   ]
  },
  {
   "cell_type": "markdown",
   "metadata": {},
   "source": [
    "## 3 Variables"
   ]
  },
  {
   "cell_type": "code",
   "execution_count": 6,
   "metadata": {},
   "outputs": [
    {
     "data": {
      "text/plain": [
       "array([[0.28702125, 0.3769296 , 0.37469468],\n",
       "       [0.80628723, 0.64409748, 0.05538766],\n",
       "       [0.2236088 , 0.01754805, 0.84870739],\n",
       "       [0.34731166, 0.84351229, 0.68190993],\n",
       "       [0.49581436, 0.19166853, 0.06081481]])"
      ]
     },
     "execution_count": 6,
     "metadata": {},
     "output_type": "execute_result"
    }
   ],
   "source": [
    "x2 = np.random.rand(5,3)\n",
    "x2"
   ]
  },
  {
   "cell_type": "code",
   "execution_count": 7,
   "metadata": {},
   "outputs": [
    {
     "data": {
      "text/plain": [
       "array([[1.00000000e+00, 6.52919116e-01, 5.03679679e-01, 4.26303372e-01,\n",
       "        3.28862091e-01, 2.53693219e-01, 2.78341620e-01, 2.14720345e-01,\n",
       "        1.65641152e-01, 1.27780119e-01],\n",
       "       [1.00000000e+00, 5.00850832e-01, 3.21284260e-01, 2.50851556e-01,\n",
       "        1.60915489e-01, 1.03223576e-01, 1.25639211e-01, 8.05946565e-02,\n",
       "        5.16996137e-02, 3.31641101e-02],\n",
       "       [1.00000000e+00, 2.34491031e-01, 7.18307931e-01, 5.49860437e-02,\n",
       "        1.68436767e-01, 5.15966284e-01, 1.28937341e-02, 3.94969113e-02,\n",
       "        1.20989466e-01, 3.70622674e-01],\n",
       "       [1.00000000e+00, 2.52764765e-01, 6.98195683e-02, 6.38900266e-02,\n",
       "        1.76479268e-02, 4.87477212e-03, 1.61491476e-02, 4.46077408e-03,\n",
       "        1.23217063e-03, 3.40354485e-04],\n",
       "       [1.00000000e+00, 5.26377574e-01, 4.78908599e-01, 2.77073351e-01,\n",
       "        2.52086747e-01, 2.29353446e-01, 1.45845198e-01, 1.32692810e-01,\n",
       "        1.20726511e-01, 1.09839338e-01]])"
      ]
     },
     "execution_count": 7,
     "metadata": {},
     "output_type": "execute_result"
    }
   ],
   "source": [
    "poly2 = PolynomialFeatures(3)\n",
    "poly2.fit_transform(x1)"
   ]
  },
  {
   "cell_type": "markdown",
   "metadata": {},
   "source": [
    "## Conclusiones"
   ]
  },
  {
   "cell_type": "markdown",
   "metadata": {},
   "source": [
    "Se puede observar que cuando se tienen mas variables, se pueden generar mayor cantidad de combinaciones de Features. "
   ]
  }
 ],
 "metadata": {
  "kernelspec": {
   "display_name": "Python 3",
   "language": "python",
   "name": "python3"
  },
  "language_info": {
   "codemirror_mode": {
    "name": "ipython",
    "version": 3
   },
   "file_extension": ".py",
   "mimetype": "text/x-python",
   "name": "python",
   "nbconvert_exporter": "python",
   "pygments_lexer": "ipython3",
   "version": "3.7.1"
  }
 },
 "nbformat": 4,
 "nbformat_minor": 2
}
