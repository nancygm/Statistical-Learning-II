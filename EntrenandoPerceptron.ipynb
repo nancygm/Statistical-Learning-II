{
  "nbformat": 4,
  "nbformat_minor": 0,
  "metadata": {
    "colab": {
      "name": "EntrenandoPerceptron.ipynb",
      "provenance": []
    },
    "kernelspec": {
      "name": "python3",
      "display_name": "Python 3"
    }
  },
  "cells": [
    {
      "cell_type": "markdown",
      "metadata": {
        "id": "oLJBVFf6GKXo",
        "colab_type": "text"
      },
      "source": [
        "# Entrenamiento de perceptrón"
      ]
    },
    {
      "cell_type": "markdown",
      "metadata": {
        "id": "K9CASgasGTcs",
        "colab_type": "text"
      },
      "source": [
        "Nancy Patricia Girón Muñoz - 19007078"
      ]
    },
    {
      "cell_type": "code",
      "metadata": {
        "id": "axM7Q0b8GBhx",
        "colab_type": "code",
        "colab": {}
      },
      "source": [
        "import pandas as pd\n",
        "import numpy as np\n",
        "import matplotlib.pyplot as plt"
      ],
      "execution_count": 0,
      "outputs": []
    },
    {
      "cell_type": "code",
      "metadata": {
        "id": "rrD0KEKrGdag",
        "colab_type": "code",
        "colab": {
          "base_uri": "https://localhost:8080/",
          "height": 122
        },
        "outputId": "6e73690a-4413-4acd-f361-9165aaa430fc"
      },
      "source": [
        "from google.colab import drive\n",
        "drive.mount('/content/drive/', force_remount = True)"
      ],
      "execution_count": 3,
      "outputs": [
        {
          "output_type": "stream",
          "text": [
            "Go to this URL in a browser: https://accounts.google.com/o/oauth2/auth?client_id=947318989803-6bn6qk8qdgf4n4g3pfee6491hc0brc4i.apps.googleusercontent.com&redirect_uri=urn%3Aietf%3Awg%3Aoauth%3A2.0%3Aoob&scope=email%20https%3A%2F%2Fwww.googleapis.com%2Fauth%2Fdocs.test%20https%3A%2F%2Fwww.googleapis.com%2Fauth%2Fdrive%20https%3A%2F%2Fwww.googleapis.com%2Fauth%2Fdrive.photos.readonly%20https%3A%2F%2Fwww.googleapis.com%2Fauth%2Fpeopleapi.readonly&response_type=code\n",
            "\n",
            "Enter your authorization code:\n",
            "··········\n",
            "Mounted at /content/drive/\n"
          ],
          "name": "stdout"
        }
      ]
    },
    {
      "cell_type": "code",
      "metadata": {
        "id": "Op3c3d27Jm0H",
        "colab_type": "code",
        "colab": {
          "base_uri": "https://localhost:8080/",
          "height": 221
        },
        "outputId": "f063a705-fd1b-42d0-ea66-8f07ed8042fc"
      },
      "source": [
        "path = \"/content/drive/My Drive/Entrenamiento Perceptrón/\"\n",
        "file_name = 'data.csv'\n",
        "print(path + file_name)\n",
        "dataset = pd.read_csv(path+file_name,encoding='latin-1')\n",
        "dataset.head()"
      ],
      "execution_count": 6,
      "outputs": [
        {
          "output_type": "stream",
          "text": [
            "/content/drive/My Drive/Entrenamiento Perceptrón/data.csv\n"
          ],
          "name": "stdout"
        },
        {
          "output_type": "execute_result",
          "data": {
            "text/html": [
              "<div>\n",
              "<style scoped>\n",
              "    .dataframe tbody tr th:only-of-type {\n",
              "        vertical-align: middle;\n",
              "    }\n",
              "\n",
              "    .dataframe tbody tr th {\n",
              "        vertical-align: top;\n",
              "    }\n",
              "\n",
              "    .dataframe thead th {\n",
              "        text-align: right;\n",
              "    }\n",
              "</style>\n",
              "<table border=\"1\" class=\"dataframe\">\n",
              "  <thead>\n",
              "    <tr style=\"text-align: right;\">\n",
              "      <th></th>\n",
              "      <th>x1</th>\n",
              "      <th>x2</th>\n",
              "      <th>label</th>\n",
              "    </tr>\n",
              "  </thead>\n",
              "  <tbody>\n",
              "    <tr>\n",
              "      <th>0</th>\n",
              "      <td>12.882292</td>\n",
              "      <td>10.228199</td>\n",
              "      <td>1</td>\n",
              "    </tr>\n",
              "    <tr>\n",
              "      <th>1</th>\n",
              "      <td>12.682271</td>\n",
              "      <td>9.360462</td>\n",
              "      <td>1</td>\n",
              "    </tr>\n",
              "    <tr>\n",
              "      <th>2</th>\n",
              "      <td>12.104981</td>\n",
              "      <td>10.580729</td>\n",
              "      <td>1</td>\n",
              "    </tr>\n",
              "    <tr>\n",
              "      <th>3</th>\n",
              "      <td>12.473947</td>\n",
              "      <td>10.993459</td>\n",
              "      <td>1</td>\n",
              "    </tr>\n",
              "    <tr>\n",
              "      <th>4</th>\n",
              "      <td>11.997386</td>\n",
              "      <td>9.321291</td>\n",
              "      <td>1</td>\n",
              "    </tr>\n",
              "  </tbody>\n",
              "</table>\n",
              "</div>"
            ],
            "text/plain": [
              "          x1         x2  label\n",
              "0  12.882292  10.228199      1\n",
              "1  12.682271   9.360462      1\n",
              "2  12.104981  10.580729      1\n",
              "3  12.473947  10.993459      1\n",
              "4  11.997386   9.321291      1"
            ]
          },
          "metadata": {
            "tags": []
          },
          "execution_count": 6
        }
      ]
    },
    {
      "cell_type": "markdown",
      "metadata": {
        "id": "AB_GeDJ2LUzN",
        "colab_type": "text"
      },
      "source": [
        "Graficamos los datos para observar como es el comportamiento."
      ]
    },
    {
      "cell_type": "code",
      "metadata": {
        "id": "OMzM9iy-KpjJ",
        "colab_type": "code",
        "colab": {
          "base_uri": "https://localhost:8080/",
          "height": 338
        },
        "outputId": "dab0daf5-a049-48ec-a9dd-a97bee9102f1"
      },
      "source": [
        "plt.figure(figsize=(8,5))\n",
        "plt.scatter(dataset.x1[:], dataset.x2[:], alpha=0.8);\n",
        "plt.xlabel(\"X1\");\n",
        "plt.ylabel(\"X2\");"
      ],
      "execution_count": 12,
      "outputs": [
        {
          "output_type": "display_data",
          "data": {
            "image/png": "[encoded data removed]",
            "text/plain": [
              "<Figure size 576x360 with 1 Axes>"
            ]
          },
          "metadata": {
            "tags": []
          }
        }
      ]
    },
    {
      "cell_type": "markdown",
      "metadata": {
        "id": "eKZ6pRWqLZVY",
        "colab_type": "text"
      },
      "source": [
        "Agregamos el termino de bias."
      ]
    },
    {
      "cell_type": "code",
      "metadata": {
        "id": "GwQpqaSTRXoc",
        "colab_type": "code",
        "colab": {
          "base_uri": "https://localhost:8080/",
          "height": 204
        },
        "outputId": "51aa044f-c127-4378-ae87-69d706a760f5"
      },
      "source": [
        "dataset['bias'] = np.ones(len(dataset))\n",
        "x = np.array(dataset[['bias', 'x1', 'x2']])\n",
        "y = dataset['label']\n",
        "dataset.head()"
      ],
      "execution_count": 33,
      "outputs": [
        {
          "output_type": "execute_result",
          "data": {
            "text/html": [
              "<div>\n",
              "<style scoped>\n",
              "    .dataframe tbody tr th:only-of-type {\n",
              "        vertical-align: middle;\n",
              "    }\n",
              "\n",
              "    .dataframe tbody tr th {\n",
              "        vertical-align: top;\n",
              "    }\n",
              "\n",
              "    .dataframe thead th {\n",
              "        text-align: right;\n",
              "    }\n",
              "</style>\n",
              "<table border=\"1\" class=\"dataframe\">\n",
              "  <thead>\n",
              "    <tr style=\"text-align: right;\">\n",
              "      <th></th>\n",
              "      <th>x1</th>\n",
              "      <th>x2</th>\n",
              "      <th>label</th>\n",
              "      <th>bias</th>\n",
              "    </tr>\n",
              "  </thead>\n",
              "  <tbody>\n",
              "    <tr>\n",
              "      <th>0</th>\n",
              "      <td>12.882292</td>\n",
              "      <td>10.228199</td>\n",
              "      <td>1</td>\n",
              "      <td>1.0</td>\n",
              "    </tr>\n",
              "    <tr>\n",
              "      <th>1</th>\n",
              "      <td>12.682271</td>\n",
              "      <td>9.360462</td>\n",
              "      <td>1</td>\n",
              "      <td>1.0</td>\n",
              "    </tr>\n",
              "    <tr>\n",
              "      <th>2</th>\n",
              "      <td>12.104981</td>\n",
              "      <td>10.580729</td>\n",
              "      <td>1</td>\n",
              "      <td>1.0</td>\n",
              "    </tr>\n",
              "    <tr>\n",
              "      <th>3</th>\n",
              "      <td>12.473947</td>\n",
              "      <td>10.993459</td>\n",
              "      <td>1</td>\n",
              "      <td>1.0</td>\n",
              "    </tr>\n",
              "    <tr>\n",
              "      <th>4</th>\n",
              "      <td>11.997386</td>\n",
              "      <td>9.321291</td>\n",
              "      <td>1</td>\n",
              "      <td>1.0</td>\n",
              "    </tr>\n",
              "  </tbody>\n",
              "</table>\n",
              "</div>"
            ],
            "text/plain": [
              "          x1         x2  label  bias\n",
              "0  12.882292  10.228199      1   1.0\n",
              "1  12.682271   9.360462      1   1.0\n",
              "2  12.104981  10.580729      1   1.0\n",
              "3  12.473947  10.993459      1   1.0\n",
              "4  11.997386   9.321291      1   1.0"
            ]
          },
          "metadata": {
            "tags": []
          },
          "execution_count": 33
        }
      ]
    },
    {
      "cell_type": "code",
      "metadata": {
        "id": "uDLjXD1gK7FA",
        "colab_type": "code",
        "colab": {}
      },
      "source": [
        "def train_perceptron(x, y, epochs, lr, m):\n",
        "    w = np.random.standard_normal(size=x.shape[1])\n",
        "    n = 0        \n",
        "    while n < epochs:          \n",
        "        for i in range(len(x)):    \n",
        "            b = np.dot(x[i], w)\n",
        "            if b >= m:\n",
        "              yhat = 1 \n",
        "            else:\n",
        "              yhat = 0\n",
        "            for j in range(len(w)):             \n",
        "                w[j] = w[j] + lr*(y[i]-yhat)*x[i][j]              \n",
        "        n += 1\n",
        "    return w"
      ],
      "execution_count": 0,
      "outputs": []
    },
    {
      "cell_type": "code",
      "metadata": {
        "id": "dy-_OrswLd7h",
        "colab_type": "code",
        "colab": {
          "base_uri": "https://localhost:8080/",
          "height": 34
        },
        "outputId": "ead63b87-f429-49f7-b0d2-ac8462cf7391"
      },
      "source": [
        "perceptron = train_perceptron(x, y, 1000, 0.01, 0)\n",
        "perceptron"
      ],
      "execution_count": 41,
      "outputs": [
        {
          "output_type": "execute_result",
          "data": {
            "text/plain": [
              "array([-2.12616142,  0.43027961, -0.18880203])"
            ]
          },
          "metadata": {
            "tags": []
          },
          "execution_count": 41
        }
      ]
    },
    {
      "cell_type": "code",
      "metadata": {
        "id": "Ul3QU4iPOyBJ",
        "colab_type": "code",
        "colab": {
          "base_uri": "https://localhost:8080/",
          "height": 500
        },
        "outputId": "fb6e5f33-e44f-4430-b718-60c042bed03b"
      },
      "source": [
        "def decision(x1):\n",
        "    return (-(perceptron[0] + perceptron[1]*x1)/ perceptron[2])\n",
        "x1 = np.linspace(0,20)\n",
        "plt.figure(figsize=(10,8))\n",
        "plt.scatter(dataset.x1[:], dataset.x2[:], alpha=0.8)\n",
        "plt.plot(x1, np.array([decision(x) for x in x1]),'r--')\n",
        "plt.xlabel(\"X1\");\n",
        "plt.ylabel(\"X2\");\n",
        "plt.legend()\n",
        "plt.show()"
      ],
      "execution_count": 45,
      "outputs": [
        {
          "output_type": "display_data",
          "data": {
            "image/png": "[encoded data removed]",
            "text/plain": [
              "<Figure size 720x576 with 1 Axes>"
            ]
          },
          "metadata": {
            "tags": []
          }
        }
      ]
    },
    {
      "cell_type": "code",
      "metadata": {
        "id": "-s1y70yMR10r",
        "colab_type": "code",
        "colab": {}
      },
      "source": [
        ""
      ],
      "execution_count": 0,
      "outputs": []
    }
  ]
}