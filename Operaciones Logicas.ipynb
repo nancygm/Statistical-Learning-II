{
 "cells": [
  {
   "cell_type": "markdown",
   "metadata": {},
   "source": [
    "# Operaciones Lógicas "
   ]
  },
  {
   "cell_type": "markdown",
   "metadata": {},
   "source": [
    "Nancy Patricia Girón Muñoz"
   ]
  },
  {
   "cell_type": "code",
   "execution_count": 61,
   "metadata": {},
   "outputs": [],
   "source": [
    "import numpy as np"
   ]
  },
  {
   "cell_type": "code",
   "execution_count": 62,
   "metadata": {},
   "outputs": [],
   "source": [
    "def activation(m):\n",
    "    return (m>=0).astype(np.float)\n",
    "\n",
    "def Operacion(x, weights):\n",
    "    return np.matmul(x, weights)"
   ]
  },
  {
   "cell_type": "code",
   "execution_count": 64,
   "metadata": {},
   "outputs": [],
   "source": [
    "x = np.array([[0., 0.], [0., 1.], [1., 0.], [1., 1.]])"
   ]
  },
  {
   "cell_type": "markdown",
   "metadata": {},
   "source": [
    "## AND"
   ]
  },
  {
   "cell_type": "code",
   "execution_count": 65,
   "metadata": {},
   "outputs": [
    {
     "name": "stdout",
     "output_type": "stream",
     "text": [
      "Operacion AND\n",
      "Entrada\n",
      "[[0. 0.]\n",
      " [0. 1.]\n",
      " [1. 0.]\n",
      " [1. 1.]]\n",
      "Salida\n",
      "[[0.]\n",
      " [0.]\n",
      " [0.]\n",
      " [1.]]\n"
     ]
    }
   ],
   "source": [
    "weights = np.array([10, 10, -15.])\n",
    "prediction = activation(Operacion(np.column_stack((x, np.ones(x.shape[0]))), weights)).reshape(-1, 1)\n",
    "\n",
    "print(\"Operacion AND\")\n",
    "print(\"Entrada\")\n",
    "print(str(x))\n",
    "print(\"Salida\")\n",
    "print(str(prediction))"
   ]
  },
  {
   "cell_type": "markdown",
   "metadata": {},
   "source": [
    "## OR"
   ]
  },
  {
   "cell_type": "code",
   "execution_count": 66,
   "metadata": {},
   "outputs": [
    {
     "name": "stdout",
     "output_type": "stream",
     "text": [
      "Operacion OR\n",
      "Entrada\n",
      "[[0. 0.]\n",
      " [0. 1.]\n",
      " [1. 0.]\n",
      " [1. 1.]]\n",
      "Salida\n",
      "[[0.]\n",
      " [1.]\n",
      " [1.]\n",
      " [1.]]\n"
     ]
    }
   ],
   "source": [
    "weights = np.array([30., 30., -1.])\n",
    "prediction = activation(Operacion(np.column_stack((x, np.ones(x.shape[0]))), weights)).reshape(-1, 1)\n",
    "\n",
    "print(\"Operacion OR\")\n",
    "print(\"Entrada\")\n",
    "print(str(x))\n",
    "print(\"Salida\")\n",
    "print(str(prediction))"
   ]
  },
  {
   "cell_type": "markdown",
   "metadata": {},
   "source": [
    "## NOT"
   ]
  },
  {
   "cell_type": "code",
   "execution_count": 67,
   "metadata": {},
   "outputs": [
    {
     "data": {
      "text/plain": [
       "array([[0],\n",
       "       [1]])"
      ]
     },
     "execution_count": 67,
     "metadata": {},
     "output_type": "execute_result"
    }
   ],
   "source": [
    "x = np.array([0, 1]).reshape(-1, 1)\n",
    "x"
   ]
  },
  {
   "cell_type": "code",
   "execution_count": 70,
   "metadata": {},
   "outputs": [
    {
     "name": "stdout",
     "output_type": "stream",
     "text": [
      "Operacion NOT\n",
      "Entrada\n",
      "[[0]\n",
      " [1]]\n",
      "Salida\n",
      "[[1.]\n",
      " [0.]]\n"
     ]
    }
   ],
   "source": [
    "weights = np.array([-10., 1])\n",
    "prediction = activation(Operacion(np.column_stack((x, np.ones(x.shape[0]))), weights)).reshape(-1, 1)\n",
    "\n",
    "print(\"Operacion NOT\")\n",
    "print(\"Entrada\")\n",
    "print(str(x))\n",
    "print(\"Salida\")\n",
    "print(str(prediction))"
   ]
  }
 ],
 "metadata": {
  "kernelspec": {
   "display_name": "Python 3",
   "language": "python",
   "name": "python3"
  },
  "language_info": {
   "codemirror_mode": {
    "name": "ipython",
    "version": 3
   },
   "file_extension": ".py",
   "mimetype": "text/x-python",
   "name": "python",
   "nbconvert_exporter": "python",
   "pygments_lexer": "ipython3",
   "version": "3.7.1"
  }
 },
 "nbformat": 4,
 "nbformat_minor": 2
}
