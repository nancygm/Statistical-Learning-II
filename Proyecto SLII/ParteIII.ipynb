{
  "nbformat": 4,
  "nbformat_minor": 0,
  "metadata": {
    "colab": {
      "name": "RNN.ipynb",
      "provenance": [],
      "collapsed_sections": []
    },
    "kernelspec": {
      "name": "python3",
      "display_name": "Python 3"
    }
  },
  "cells": [
    {
      "cell_type": "markdown",
      "metadata": {
        "id": "WqMYp0Z9HwCo",
        "colab_type": "text"
      },
      "source": [
        "# Parte III: Recurrent Neural Network"
      ]
    },
    {
      "cell_type": "markdown",
      "metadata": {
        "id": "A-MTcdaDIleN",
        "colab_type": "text"
      },
      "source": [
        "Nancy Patricia Girón Muñoz\n",
        "\n",
        "Carné: 19007078\n",
        "\n",
        "Se implementa un modelo de redes neuronales recurrentes para modelar la evolución en el precio del oro. Los datos se encuentran en dolares. "
      ]
    },
    {
      "cell_type": "markdown",
      "metadata": {
        "id": "WHAePsUbI2rR",
        "colab_type": "text"
      },
      "source": [
        "**Importando paquetes**"
      ]
    },
    {
      "cell_type": "code",
      "metadata": {
        "id": "-3mGrDnOwgmk",
        "colab_type": "code",
        "colab": {}
      },
      "source": [
        "from keras.models import Sequential\n",
        "from keras.layers import Dense\n",
        "from keras.layers import LSTM\n",
        "from sklearn.preprocessing import MinMaxScaler\n",
        "from sklearn.metrics import mean_squared_error\n",
        "import pandas as pd\n",
        "import numpy as np\n",
        "import matplotlib.pyplot as plt"
      ],
      "execution_count": 0,
      "outputs": []
    },
    {
      "cell_type": "markdown",
      "metadata": {
        "id": "bJEJbFz5I7l-",
        "colab_type": "text"
      },
      "source": [
        "**Cargando datos**"
      ]
    },
    {
      "cell_type": "code",
      "metadata": {
        "id": "M4RrEzRLSU6p",
        "colab_type": "code",
        "colab": {
          "base_uri": "https://localhost:8080/",
          "height": 122
        },
        "outputId": "b3d6be42-3f71-425e-a5a7-2754800b1acc"
      },
      "source": [
        "from google.colab import drive\n",
        "drive.mount('/content/drive/',force_remount=True)"
      ],
      "execution_count": 1,
      "outputs": [
        {
          "output_type": "stream",
          "text": [
            "Go to this URL in a browser: https://accounts.google.com/o/oauth2/auth?client_id=947318989803-6bn6qk8qdgf4n4g3pfee6491hc0brc4i.apps.googleusercontent.com&redirect_uri=urn%3Aietf%3Awg%3Aoauth%3A2.0%3Aoob&scope=email%20https%3A%2F%2Fwww.googleapis.com%2Fauth%2Fdocs.test%20https%3A%2F%2Fwww.googleapis.com%2Fauth%2Fdrive%20https%3A%2F%2Fwww.googleapis.com%2Fauth%2Fdrive.photos.readonly%20https%3A%2F%2Fwww.googleapis.com%2Fauth%2Fpeopleapi.readonly&response_type=code\n",
            "\n",
            "Enter your authorization code:\n",
            "··········\n",
            "Mounted at /content/drive/\n"
          ],
          "name": "stdout"
        }
      ]
    },
    {
      "cell_type": "code",
      "metadata": {
        "id": "oFckogrj32lX",
        "colab_type": "code",
        "colab": {
          "base_uri": "https://localhost:8080/",
          "height": 204
        },
        "outputId": "3f8bf893-d781-45f9-c730-8bdc30bfb437"
      },
      "source": [
        "path_1 = \"/content/drive/My Drive/Proyecto SLII/\"\n",
        "file_name_1 = 'annual_csv.csv'\n",
        "dataset_anual = pd.read_csv(path_1+file_name_1,encoding='latin-1')\n",
        "dataset_anual.head()"
      ],
      "execution_count": 18,
      "outputs": [
        {
          "output_type": "execute_result",
          "data": {
            "text/html": [
              "<div>\n",
              "<style scoped>\n",
              "    .dataframe tbody tr th:only-of-type {\n",
              "        vertical-align: middle;\n",
              "    }\n",
              "\n",
              "    .dataframe tbody tr th {\n",
              "        vertical-align: top;\n",
              "    }\n",
              "\n",
              "    .dataframe thead th {\n",
              "        text-align: right;\n",
              "    }\n",
              "</style>\n",
              "<table border=\"1\" class=\"dataframe\">\n",
              "  <thead>\n",
              "    <tr style=\"text-align: right;\">\n",
              "      <th></th>\n",
              "      <th>Date</th>\n",
              "      <th>Price</th>\n",
              "    </tr>\n",
              "  </thead>\n",
              "  <tbody>\n",
              "    <tr>\n",
              "      <th>0</th>\n",
              "      <td>1950-12</td>\n",
              "      <td>34.72</td>\n",
              "    </tr>\n",
              "    <tr>\n",
              "      <th>1</th>\n",
              "      <td>1951-12</td>\n",
              "      <td>34.66</td>\n",
              "    </tr>\n",
              "    <tr>\n",
              "      <th>2</th>\n",
              "      <td>1952-12</td>\n",
              "      <td>34.79</td>\n",
              "    </tr>\n",
              "    <tr>\n",
              "      <th>3</th>\n",
              "      <td>1953-12</td>\n",
              "      <td>34.85</td>\n",
              "    </tr>\n",
              "    <tr>\n",
              "      <th>4</th>\n",
              "      <td>1954-12</td>\n",
              "      <td>35.04</td>\n",
              "    </tr>\n",
              "  </tbody>\n",
              "</table>\n",
              "</div>"
            ],
            "text/plain": [
              "      Date  Price\n",
              "0  1950-12  34.72\n",
              "1  1951-12  34.66\n",
              "2  1952-12  34.79\n",
              "3  1953-12  34.85\n",
              "4  1954-12  35.04"
            ]
          },
          "metadata": {
            "tags": []
          },
          "execution_count": 18
        }
      ]
    },
    {
      "cell_type": "markdown",
      "metadata": {
        "id": "xkmPreqYKolC",
        "colab_type": "text"
      },
      "source": [
        "**Grafica de la serie de tiempo**"
      ]
    },
    {
      "cell_type": "code",
      "metadata": {
        "id": "XnbC-O356UEu",
        "colab_type": "code",
        "colab": {
          "base_uri": "https://localhost:8080/",
          "height": 610
        },
        "outputId": "1f7f935e-1bd8-433e-af95-e05ca5271398"
      },
      "source": [
        "# Graficamos las variaciones interanuales históricas\n",
        "plt.figure(figsize=(14,10))\n",
        "plt.plot(dataset_anual[\"Price\"], label=\"Precio del oro\")\n",
        "plt.xlabel(\"Períodos a partir del 1950\")\n",
        "plt.ylabel(\"Precio del Oro a travez del tiempo\")\n",
        "plt.legend();"
      ],
      "execution_count": 66,
      "outputs": [
        {
          "output_type": "display_data",
          "data": {
            "image/png": "[encoded data removed]",
            "text/plain": [
              "<Figure size 1008x720 with 1 Axes>"
            ]
          },
          "metadata": {
            "tags": []
          }
        }
      ]
    },
    {
      "cell_type": "markdown",
      "metadata": {
        "id": "YSkdp76rK2Nr",
        "colab_type": "text"
      },
      "source": [
        "**Normalizamos la data**"
      ]
    },
    {
      "cell_type": "code",
      "metadata": {
        "id": "nUxfL3r197ns",
        "colab_type": "code",
        "colab": {
          "base_uri": "https://localhost:8080/",
          "height": 204
        },
        "outputId": "65fa6795-a55a-4217-b374-22a9cd74dcc9"
      },
      "source": [
        "scaler = MinMaxScaler(feature_range=(0,1))\n",
        "data = scaler.fit_transform(dataset_anual['Price'].values.reshape(-1,1))\n",
        "new_data_anual = pd.DataFrame(data,columns=['Price'])\n",
        "new_data_anual.head()"
      ],
      "execution_count": 74,
      "outputs": [
        {
          "output_type": "execute_result",
          "data": {
            "text/html": [
              "<div>\n",
              "<style scoped>\n",
              "    .dataframe tbody tr th:only-of-type {\n",
              "        vertical-align: middle;\n",
              "    }\n",
              "\n",
              "    .dataframe tbody tr th {\n",
              "        vertical-align: top;\n",
              "    }\n",
              "\n",
              "    .dataframe thead th {\n",
              "        text-align: right;\n",
              "    }\n",
              "</style>\n",
              "<table border=\"1\" class=\"dataframe\">\n",
              "  <thead>\n",
              "    <tr style=\"text-align: right;\">\n",
              "      <th></th>\n",
              "      <th>Price</th>\n",
              "    </tr>\n",
              "  </thead>\n",
              "  <tbody>\n",
              "    <tr>\n",
              "      <th>0</th>\n",
              "      <td>0.000036</td>\n",
              "    </tr>\n",
              "    <tr>\n",
              "      <th>1</th>\n",
              "      <td>0.000000</td>\n",
              "    </tr>\n",
              "    <tr>\n",
              "      <th>2</th>\n",
              "      <td>0.000079</td>\n",
              "    </tr>\n",
              "    <tr>\n",
              "      <th>3</th>\n",
              "      <td>0.000115</td>\n",
              "    </tr>\n",
              "    <tr>\n",
              "      <th>4</th>\n",
              "      <td>0.000230</td>\n",
              "    </tr>\n",
              "  </tbody>\n",
              "</table>\n",
              "</div>"
            ],
            "text/plain": [
              "      Price\n",
              "0  0.000036\n",
              "1  0.000000\n",
              "2  0.000079\n",
              "3  0.000115\n",
              "4  0.000230"
            ]
          },
          "metadata": {
            "tags": []
          },
          "execution_count": 74
        }
      ]
    },
    {
      "cell_type": "code",
      "metadata": {
        "id": "OcIxVI6IAWvV",
        "colab_type": "code",
        "colab": {}
      },
      "source": [
        "lookback = 10 \n",
        "X, Y = [], []\n",
        "for i in range(len(dataset_anual)-lookback-1):\n",
        "\ta = data[i:(i+lookback), 0]\n",
        "\tX.append(a)\n",
        "\tY.append(data[i + lookback, 0])"
      ],
      "execution_count": 0,
      "outputs": []
    },
    {
      "cell_type": "code",
      "metadata": {
        "id": "WkOAvMmvCae6",
        "colab_type": "code",
        "colab": {}
      },
      "source": [
        "X_train = np.array(X)\n",
        "y_train = np.array(Y)\n",
        "train_size = int(len(dataset_anual) * 0.8) \n",
        "test_size = len(dataset_anual) - train_size\n",
        "X_test = X_train[:test_size+lookback]\n",
        "x_train = np.reshape(X_train, (X_train.shape[0], 1, X_train.shape[1]))\n",
        "x_test = np.reshape(X_test, (X_test.shape[0], 1, X_test.shape[1]))"
      ],
      "execution_count": 0,
      "outputs": []
    },
    {
      "cell_type": "code",
      "metadata": {
        "id": "zlW-NKXhEttc",
        "colab_type": "code",
        "colab": {
          "base_uri": "https://localhost:8080/",
          "height": 1000
        },
        "outputId": "3c15c88b-fb72-4c2e-b165-0c14dde4b542"
      },
      "source": [
        "model = Sequential()\n",
        "model.add(LSTM(30, return_sequences= True, input_shape=(x_train.shape[1],10)))\n",
        "model.add(LSTM(30, return_sequences=True))\n",
        "model.add(LSTM(30))\n",
        "model.add(Dense(1))\n",
        "model.compile(optimizer='adam', loss='mean_squared_error')\n",
        "model.fit(x_train, y_train, epochs=200, batch_size=32)\n",
        "prediccion = model.predict(x_test) \n",
        "model.summary()"
      ],
      "execution_count": 77,
      "outputs": [
        {
          "output_type": "stream",
          "text": [
            "Epoch 1/200\n",
            "58/58 [==============================] - 4s 73ms/step - loss: 0.1263\n",
            "Epoch 2/200\n",
            "58/58 [==============================] - 0s 277us/step - loss: 0.1234\n",
            "Epoch 3/200\n",
            "58/58 [==============================] - 0s 261us/step - loss: 0.1204\n",
            "Epoch 4/200\n",
            "58/58 [==============================] - 0s 261us/step - loss: 0.1169\n",
            "Epoch 5/200\n",
            "58/58 [==============================] - 0s 258us/step - loss: 0.1136\n",
            "Epoch 6/200\n",
            "58/58 [==============================] - 0s 257us/step - loss: 0.1102\n",
            "Epoch 7/200\n",
            "58/58 [==============================] - 0s 261us/step - loss: 0.1066\n",
            "Epoch 8/200\n",
            "58/58 [==============================] - 0s 268us/step - loss: 0.1025\n",
            "Epoch 9/200\n",
            "58/58 [==============================] - 0s 259us/step - loss: 0.0991\n",
            "Epoch 10/200\n",
            "58/58 [==============================] - 0s 266us/step - loss: 0.0953\n",
            "Epoch 11/200\n",
            "58/58 [==============================] - 0s 247us/step - loss: 0.0913\n",
            "Epoch 12/200\n",
            "58/58 [==============================] - 0s 236us/step - loss: 0.0869\n",
            "Epoch 13/200\n",
            "58/58 [==============================] - 0s 258us/step - loss: 0.0831\n",
            "Epoch 14/200\n",
            "58/58 [==============================] - 0s 329us/step - loss: 0.0790\n",
            "Epoch 15/200\n",
            "58/58 [==============================] - 0s 297us/step - loss: 0.0742\n",
            "Epoch 16/200\n",
            "58/58 [==============================] - 0s 341us/step - loss: 0.0694\n",
            "Epoch 17/200\n",
            "58/58 [==============================] - 0s 269us/step - loss: 0.0654\n",
            "Epoch 18/200\n",
            "58/58 [==============================] - 0s 252us/step - loss: 0.0603\n",
            "Epoch 19/200\n",
            "58/58 [==============================] - 0s 248us/step - loss: 0.0557\n",
            "Epoch 20/200\n",
            "58/58 [==============================] - 0s 296us/step - loss: 0.0510\n",
            "Epoch 21/200\n",
            "58/58 [==============================] - 0s 251us/step - loss: 0.0471\n",
            "Epoch 22/200\n",
            "58/58 [==============================] - 0s 252us/step - loss: 0.0426\n",
            "Epoch 23/200\n",
            "58/58 [==============================] - 0s 297us/step - loss: 0.0392\n",
            "Epoch 24/200\n",
            "58/58 [==============================] - 0s 397us/step - loss: 0.0356\n",
            "Epoch 25/200\n",
            "58/58 [==============================] - 0s 426us/step - loss: 0.0340\n",
            "Epoch 26/200\n",
            "58/58 [==============================] - 0s 334us/step - loss: 0.0323\n",
            "Epoch 27/200\n",
            "58/58 [==============================] - 0s 331us/step - loss: 0.0314\n",
            "Epoch 28/200\n",
            "58/58 [==============================] - 0s 287us/step - loss: 0.0310\n",
            "Epoch 29/200\n",
            "58/58 [==============================] - 0s 353us/step - loss: 0.0309\n",
            "Epoch 30/200\n",
            "58/58 [==============================] - 0s 388us/step - loss: 0.0301\n",
            "Epoch 31/200\n",
            "58/58 [==============================] - 0s 273us/step - loss: 0.0292\n",
            "Epoch 32/200\n",
            "58/58 [==============================] - 0s 307us/step - loss: 0.0280\n",
            "Epoch 33/200\n",
            "58/58 [==============================] - 0s 336us/step - loss: 0.0266\n",
            "Epoch 34/200\n",
            "58/58 [==============================] - 0s 326us/step - loss: 0.0251\n",
            "Epoch 35/200\n",
            "58/58 [==============================] - 0s 338us/step - loss: 0.0240\n",
            "Epoch 36/200\n",
            "58/58 [==============================] - 0s 257us/step - loss: 0.0230\n",
            "Epoch 37/200\n",
            "58/58 [==============================] - 0s 294us/step - loss: 0.0223\n",
            "Epoch 38/200\n",
            "58/58 [==============================] - 0s 322us/step - loss: 0.0216\n",
            "Epoch 39/200\n",
            "58/58 [==============================] - 0s 322us/step - loss: 0.0211\n",
            "Epoch 40/200\n",
            "58/58 [==============================] - 0s 306us/step - loss: 0.0204\n",
            "Epoch 41/200\n",
            "58/58 [==============================] - 0s 400us/step - loss: 0.0198\n",
            "Epoch 42/200\n",
            "58/58 [==============================] - 0s 296us/step - loss: 0.0194\n",
            "Epoch 43/200\n",
            "58/58 [==============================] - 0s 311us/step - loss: 0.0187\n",
            "Epoch 44/200\n",
            "58/58 [==============================] - 0s 301us/step - loss: 0.0183\n",
            "Epoch 45/200\n",
            "58/58 [==============================] - 0s 340us/step - loss: 0.0179\n",
            "Epoch 46/200\n",
            "58/58 [==============================] - 0s 280us/step - loss: 0.0175\n",
            "Epoch 47/200\n",
            "58/58 [==============================] - 0s 315us/step - loss: 0.0172\n",
            "Epoch 48/200\n",
            "58/58 [==============================] - 0s 307us/step - loss: 0.0169\n",
            "Epoch 49/200\n",
            "58/58 [==============================] - 0s 313us/step - loss: 0.0167\n",
            "Epoch 50/200\n",
            "58/58 [==============================] - 0s 353us/step - loss: 0.0164\n",
            "Epoch 51/200\n",
            "58/58 [==============================] - 0s 322us/step - loss: 0.0161\n",
            "Epoch 52/200\n",
            "58/58 [==============================] - 0s 327us/step - loss: 0.0159\n",
            "Epoch 53/200\n",
            "58/58 [==============================] - 0s 364us/step - loss: 0.0157\n",
            "Epoch 54/200\n",
            "58/58 [==============================] - 0s 344us/step - loss: 0.0155\n",
            "Epoch 55/200\n",
            "58/58 [==============================] - 0s 376us/step - loss: 0.0153\n",
            "Epoch 56/200\n",
            "58/58 [==============================] - 0s 280us/step - loss: 0.0150\n",
            "Epoch 57/200\n",
            "58/58 [==============================] - 0s 333us/step - loss: 0.0148\n",
            "Epoch 58/200\n",
            "58/58 [==============================] - 0s 314us/step - loss: 0.0146\n",
            "Epoch 59/200\n",
            "58/58 [==============================] - 0s 306us/step - loss: 0.0144\n",
            "Epoch 60/200\n",
            "58/58 [==============================] - 0s 280us/step - loss: 0.0142\n",
            "Epoch 61/200\n",
            "58/58 [==============================] - 0s 348us/step - loss: 0.0140\n",
            "Epoch 62/200\n",
            "58/58 [==============================] - 0s 327us/step - loss: 0.0138\n",
            "Epoch 63/200\n",
            "58/58 [==============================] - 0s 283us/step - loss: 0.0137\n",
            "Epoch 64/200\n",
            "58/58 [==============================] - 0s 279us/step - loss: 0.0134\n",
            "Epoch 65/200\n",
            "58/58 [==============================] - 0s 296us/step - loss: 0.0133\n",
            "Epoch 66/200\n",
            "58/58 [==============================] - 0s 280us/step - loss: 0.0131\n",
            "Epoch 67/200\n",
            "58/58 [==============================] - 0s 280us/step - loss: 0.0129\n",
            "Epoch 68/200\n",
            "58/58 [==============================] - 0s 246us/step - loss: 0.0127\n",
            "Epoch 69/200\n",
            "58/58 [==============================] - 0s 302us/step - loss: 0.0125\n",
            "Epoch 70/200\n",
            "58/58 [==============================] - 0s 302us/step - loss: 0.0124\n",
            "Epoch 71/200\n",
            "58/58 [==============================] - 0s 323us/step - loss: 0.0123\n",
            "Epoch 72/200\n",
            "58/58 [==============================] - 0s 315us/step - loss: 0.0121\n",
            "Epoch 73/200\n",
            "58/58 [==============================] - 0s 321us/step - loss: 0.0119\n",
            "Epoch 74/200\n",
            "58/58 [==============================] - 0s 301us/step - loss: 0.0118\n",
            "Epoch 75/200\n",
            "58/58 [==============================] - 0s 344us/step - loss: 0.0116\n",
            "Epoch 76/200\n",
            "58/58 [==============================] - 0s 285us/step - loss: 0.0115\n",
            "Epoch 77/200\n",
            "58/58 [==============================] - 0s 359us/step - loss: 0.0113\n",
            "Epoch 78/200\n",
            "58/58 [==============================] - 0s 309us/step - loss: 0.0112\n",
            "Epoch 79/200\n",
            "58/58 [==============================] - 0s 435us/step - loss: 0.0111\n",
            "Epoch 80/200\n",
            "58/58 [==============================] - 0s 305us/step - loss: 0.0109\n",
            "Epoch 81/200\n",
            "58/58 [==============================] - 0s 279us/step - loss: 0.0108\n",
            "Epoch 82/200\n",
            "58/58 [==============================] - 0s 243us/step - loss: 0.0106\n",
            "Epoch 83/200\n",
            "58/58 [==============================] - 0s 305us/step - loss: 0.0105\n",
            "Epoch 84/200\n",
            "58/58 [==============================] - 0s 291us/step - loss: 0.0104\n",
            "Epoch 85/200\n",
            "58/58 [==============================] - 0s 355us/step - loss: 0.0102\n",
            "Epoch 86/200\n",
            "58/58 [==============================] - 0s 299us/step - loss: 0.0101\n",
            "Epoch 87/200\n",
            "58/58 [==============================] - 0s 357us/step - loss: 0.0100\n",
            "Epoch 88/200\n",
            "58/58 [==============================] - 0s 305us/step - loss: 0.0099\n",
            "Epoch 89/200\n",
            "58/58 [==============================] - 0s 330us/step - loss: 0.0098\n",
            "Epoch 90/200\n",
            "58/58 [==============================] - 0s 287us/step - loss: 0.0096\n",
            "Epoch 91/200\n",
            "58/58 [==============================] - 0s 322us/step - loss: 0.0095\n",
            "Epoch 92/200\n",
            "58/58 [==============================] - 0s 337us/step - loss: 0.0094\n",
            "Epoch 93/200\n",
            "58/58 [==============================] - 0s 314us/step - loss: 0.0094\n",
            "Epoch 94/200\n",
            "58/58 [==============================] - 0s 327us/step - loss: 0.0092\n",
            "Epoch 95/200\n",
            "58/58 [==============================] - 0s 307us/step - loss: 0.0091\n",
            "Epoch 96/200\n",
            "58/58 [==============================] - 0s 370us/step - loss: 0.0090\n",
            "Epoch 97/200\n",
            "58/58 [==============================] - 0s 414us/step - loss: 0.0090\n",
            "Epoch 98/200\n",
            "58/58 [==============================] - 0s 386us/step - loss: 0.0088\n",
            "Epoch 99/200\n",
            "58/58 [==============================] - 0s 416us/step - loss: 0.0088\n",
            "Epoch 100/200\n",
            "58/58 [==============================] - 0s 332us/step - loss: 0.0086\n",
            "Epoch 101/200\n",
            "58/58 [==============================] - 0s 333us/step - loss: 0.0086\n",
            "Epoch 102/200\n",
            "58/58 [==============================] - 0s 435us/step - loss: 0.0085\n",
            "Epoch 103/200\n",
            "58/58 [==============================] - 0s 357us/step - loss: 0.0084\n",
            "Epoch 104/200\n",
            "58/58 [==============================] - 0s 353us/step - loss: 0.0083\n",
            "Epoch 105/200\n",
            "58/58 [==============================] - 0s 335us/step - loss: 0.0082\n",
            "Epoch 106/200\n",
            "58/58 [==============================] - 0s 286us/step - loss: 0.0081\n",
            "Epoch 107/200\n",
            "58/58 [==============================] - 0s 299us/step - loss: 0.0081\n",
            "Epoch 108/200\n",
            "58/58 [==============================] - 0s 299us/step - loss: 0.0080\n",
            "Epoch 109/200\n",
            "58/58 [==============================] - 0s 319us/step - loss: 0.0079\n",
            "Epoch 110/200\n",
            "58/58 [==============================] - 0s 312us/step - loss: 0.0079\n",
            "Epoch 111/200\n",
            "58/58 [==============================] - 0s 450us/step - loss: 0.0078\n",
            "Epoch 112/200\n",
            "58/58 [==============================] - 0s 322us/step - loss: 0.0077\n",
            "Epoch 113/200\n",
            "58/58 [==============================] - 0s 311us/step - loss: 0.0076\n",
            "Epoch 114/200\n",
            "58/58 [==============================] - 0s 369us/step - loss: 0.0077\n",
            "Epoch 115/200\n",
            "58/58 [==============================] - 0s 360us/step - loss: 0.0075\n",
            "Epoch 116/200\n",
            "58/58 [==============================] - 0s 251us/step - loss: 0.0075\n",
            "Epoch 117/200\n",
            "58/58 [==============================] - 0s 342us/step - loss: 0.0074\n",
            "Epoch 118/200\n",
            "58/58 [==============================] - 0s 306us/step - loss: 0.0073\n",
            "Epoch 119/200\n",
            "58/58 [==============================] - 0s 319us/step - loss: 0.0073\n",
            "Epoch 120/200\n",
            "58/58 [==============================] - 0s 304us/step - loss: 0.0072\n",
            "Epoch 121/200\n",
            "58/58 [==============================] - 0s 317us/step - loss: 0.0072\n",
            "Epoch 122/200\n",
            "58/58 [==============================] - 0s 317us/step - loss: 0.0072\n",
            "Epoch 123/200\n",
            "58/58 [==============================] - 0s 322us/step - loss: 0.0071\n",
            "Epoch 124/200\n",
            "58/58 [==============================] - 0s 351us/step - loss: 0.0070\n",
            "Epoch 125/200\n",
            "58/58 [==============================] - 0s 362us/step - loss: 0.0070\n",
            "Epoch 126/200\n",
            "58/58 [==============================] - 0s 339us/step - loss: 0.0069\n",
            "Epoch 127/200\n",
            "58/58 [==============================] - 0s 345us/step - loss: 0.0069\n",
            "Epoch 128/200\n",
            "58/58 [==============================] - 0s 380us/step - loss: 0.0068\n",
            "Epoch 129/200\n",
            "58/58 [==============================] - 0s 313us/step - loss: 0.0068\n",
            "Epoch 130/200\n",
            "58/58 [==============================] - 0s 311us/step - loss: 0.0068\n",
            "Epoch 131/200\n",
            "58/58 [==============================] - 0s 260us/step - loss: 0.0067\n",
            "Epoch 132/200\n",
            "58/58 [==============================] - 0s 360us/step - loss: 0.0067\n",
            "Epoch 133/200\n",
            "58/58 [==============================] - 0s 353us/step - loss: 0.0066\n",
            "Epoch 134/200\n",
            "58/58 [==============================] - 0s 341us/step - loss: 0.0066\n",
            "Epoch 135/200\n",
            "58/58 [==============================] - 0s 305us/step - loss: 0.0065\n",
            "Epoch 136/200\n",
            "58/58 [==============================] - 0s 390us/step - loss: 0.0065\n",
            "Epoch 137/200\n",
            "58/58 [==============================] - 0s 307us/step - loss: 0.0065\n",
            "Epoch 138/200\n",
            "58/58 [==============================] - 0s 270us/step - loss: 0.0064\n",
            "Epoch 139/200\n",
            "58/58 [==============================] - 0s 330us/step - loss: 0.0064\n",
            "Epoch 140/200\n",
            "58/58 [==============================] - 0s 348us/step - loss: 0.0063\n",
            "Epoch 141/200\n",
            "58/58 [==============================] - 0s 335us/step - loss: 0.0063\n",
            "Epoch 142/200\n",
            "58/58 [==============================] - 0s 253us/step - loss: 0.0063\n",
            "Epoch 143/200\n",
            "58/58 [==============================] - 0s 314us/step - loss: 0.0063\n",
            "Epoch 144/200\n",
            "58/58 [==============================] - 0s 302us/step - loss: 0.0062\n",
            "Epoch 145/200\n",
            "58/58 [==============================] - 0s 303us/step - loss: 0.0062\n",
            "Epoch 146/200\n",
            "58/58 [==============================] - 0s 401us/step - loss: 0.0061\n",
            "Epoch 147/200\n",
            "58/58 [==============================] - 0s 316us/step - loss: 0.0061\n",
            "Epoch 148/200\n",
            "58/58 [==============================] - 0s 306us/step - loss: 0.0061\n",
            "Epoch 149/200\n",
            "58/58 [==============================] - 0s 300us/step - loss: 0.0060\n",
            "Epoch 150/200\n",
            "58/58 [==============================] - 0s 332us/step - loss: 0.0060\n",
            "Epoch 151/200\n",
            "58/58 [==============================] - 0s 294us/step - loss: 0.0060\n",
            "Epoch 152/200\n",
            "58/58 [==============================] - 0s 351us/step - loss: 0.0059\n",
            "Epoch 153/200\n",
            "58/58 [==============================] - 0s 344us/step - loss: 0.0059\n",
            "Epoch 154/200\n",
            "58/58 [==============================] - 0s 421us/step - loss: 0.0059\n",
            "Epoch 155/200\n",
            "58/58 [==============================] - 0s 308us/step - loss: 0.0058\n",
            "Epoch 156/200\n",
            "58/58 [==============================] - 0s 318us/step - loss: 0.0058\n",
            "Epoch 157/200\n",
            "58/58 [==============================] - 0s 373us/step - loss: 0.0058\n",
            "Epoch 158/200\n",
            "58/58 [==============================] - 0s 314us/step - loss: 0.0058\n",
            "Epoch 159/200\n",
            "58/58 [==============================] - 0s 307us/step - loss: 0.0057\n",
            "Epoch 160/200\n",
            "58/58 [==============================] - 0s 357us/step - loss: 0.0058\n",
            "Epoch 161/200\n",
            "58/58 [==============================] - 0s 358us/step - loss: 0.0057\n",
            "Epoch 162/200\n",
            "58/58 [==============================] - 0s 358us/step - loss: 0.0056\n",
            "Epoch 163/200\n",
            "58/58 [==============================] - 0s 375us/step - loss: 0.0056\n",
            "Epoch 164/200\n",
            "58/58 [==============================] - 0s 303us/step - loss: 0.0056\n",
            "Epoch 165/200\n",
            "58/58 [==============================] - 0s 323us/step - loss: 0.0057\n",
            "Epoch 166/200\n",
            "58/58 [==============================] - 0s 334us/step - loss: 0.0056\n",
            "Epoch 167/200\n",
            "58/58 [==============================] - 0s 352us/step - loss: 0.0056\n",
            "Epoch 168/200\n",
            "58/58 [==============================] - 0s 380us/step - loss: 0.0055\n",
            "Epoch 169/200\n",
            "58/58 [==============================] - 0s 368us/step - loss: 0.0055\n",
            "Epoch 170/200\n",
            "58/58 [==============================] - 0s 392us/step - loss: 0.0055\n",
            "Epoch 171/200\n",
            "58/58 [==============================] - 0s 434us/step - loss: 0.0055\n",
            "Epoch 172/200\n",
            "58/58 [==============================] - 0s 397us/step - loss: 0.0054\n",
            "Epoch 173/200\n",
            "58/58 [==============================] - 0s 373us/step - loss: 0.0054\n",
            "Epoch 174/200\n",
            "58/58 [==============================] - 0s 322us/step - loss: 0.0054\n",
            "Epoch 175/200\n",
            "58/58 [==============================] - 0s 303us/step - loss: 0.0054\n",
            "Epoch 176/200\n",
            "58/58 [==============================] - 0s 318us/step - loss: 0.0053\n",
            "Epoch 177/200\n",
            "58/58 [==============================] - 0s 356us/step - loss: 0.0053\n",
            "Epoch 178/200\n",
            "58/58 [==============================] - 0s 484us/step - loss: 0.0053\n",
            "Epoch 179/200\n",
            "58/58 [==============================] - 0s 335us/step - loss: 0.0053\n",
            "Epoch 180/200\n",
            "58/58 [==============================] - 0s 351us/step - loss: 0.0053\n",
            "Epoch 181/200\n",
            "58/58 [==============================] - 0s 347us/step - loss: 0.0052\n",
            "Epoch 182/200\n",
            "58/58 [==============================] - 0s 304us/step - loss: 0.0052\n",
            "Epoch 183/200\n",
            "58/58 [==============================] - 0s 251us/step - loss: 0.0052\n",
            "Epoch 184/200\n",
            "58/58 [==============================] - 0s 254us/step - loss: 0.0052\n",
            "Epoch 185/200\n",
            "58/58 [==============================] - 0s 317us/step - loss: 0.0052\n",
            "Epoch 186/200\n",
            "58/58 [==============================] - 0s 334us/step - loss: 0.0051\n",
            "Epoch 187/200\n",
            "58/58 [==============================] - 0s 323us/step - loss: 0.0051\n",
            "Epoch 188/200\n",
            "58/58 [==============================] - 0s 328us/step - loss: 0.0051\n",
            "Epoch 189/200\n",
            "58/58 [==============================] - 0s 340us/step - loss: 0.0051\n",
            "Epoch 190/200\n",
            "58/58 [==============================] - 0s 311us/step - loss: 0.0051\n",
            "Epoch 191/200\n",
            "58/58 [==============================] - 0s 246us/step - loss: 0.0051\n",
            "Epoch 192/200\n",
            "58/58 [==============================] - 0s 320us/step - loss: 0.0050\n",
            "Epoch 193/200\n",
            "58/58 [==============================] - 0s 285us/step - loss: 0.0050\n",
            "Epoch 194/200\n",
            "58/58 [==============================] - 0s 256us/step - loss: 0.0050\n",
            "Epoch 195/200\n",
            "58/58 [==============================] - 0s 247us/step - loss: 0.0050\n",
            "Epoch 196/200\n",
            "58/58 [==============================] - 0s 266us/step - loss: 0.0050\n",
            "Epoch 197/200\n",
            "58/58 [==============================] - 0s 439us/step - loss: 0.0050\n",
            "Epoch 198/200\n",
            "58/58 [==============================] - 0s 324us/step - loss: 0.0049\n",
            "Epoch 199/200\n",
            "58/58 [==============================] - 0s 298us/step - loss: 0.0049\n",
            "Epoch 200/200\n",
            "58/58 [==============================] - 0s 383us/step - loss: 0.0049\n",
            "Model: \"sequential_12\"\n",
            "_________________________________________________________________\n",
            "Layer (type)                 Output Shape              Param #   \n",
            "=================================================================\n",
            "lstm_33 (LSTM)               (None, 1, 30)             4920      \n",
            "_________________________________________________________________\n",
            "lstm_34 (LSTM)               (None, 1, 30)             7320      \n",
            "_________________________________________________________________\n",
            "lstm_35 (LSTM)               (None, 30)                7320      \n",
            "_________________________________________________________________\n",
            "dense_12 (Dense)             (None, 1)                 31        \n",
            "=================================================================\n",
            "Total params: 19,591\n",
            "Trainable params: 19,591\n",
            "Non-trainable params: 0\n",
            "_________________________________________________________________\n"
          ],
          "name": "stdout"
        }
      ]
    },
    {
      "cell_type": "code",
      "metadata": {
        "id": "w6e2GLrBExPd",
        "colab_type": "code",
        "colab": {
          "base_uri": "https://localhost:8080/",
          "height": 295
        },
        "outputId": "36ffc447-bae9-4668-c203-ea58ac28aaab"
      },
      "source": [
        "plt.plot(prediccion, color= 'blue')\n",
        "plt.plot(data[lookback:test_size+(2*lookback),0], color='green')\n",
        "plt.title(\"Serie de tiempo: Precio del Oro\")\n",
        "plt.xlabel(\"Tiempo\")\n",
        "plt.ylabel(\"Precio del oro\")\n",
        "plt.legend(['Prediccion', 'Datos reales'], loc='upper left')\n",
        "plt.show()"
      ],
      "execution_count": 80,
      "outputs": [
        {
          "output_type": "display_data",
          "data": {
            "image/png": "[encoded data removed]",
            "text/plain": [
              "<Figure size 432x288 with 1 Axes>"
            ]
          },
          "metadata": {
            "tags": []
          }
        }
      ]
    },
    {
      "cell_type": "markdown",
      "metadata": {
        "id": "7Uzd09guPwIT",
        "colab_type": "text"
      },
      "source": [
        "# Conclusiones¶\n",
        "\n",
        "A partir de los ultimos 10 valores observados se puede ajustar un modelo que pronostique el precio del oro. Como se puede observar en la figura, la curva se ajusta muy bien a los datos reales. Este modelo se puede utilizar para el forecasting de series de tiempo, es muy efectivo. "
      ]
    },
    {
      "cell_type": "code",
      "metadata": {
        "id": "YEMwHPjwPjm2",
        "colab_type": "code",
        "colab": {}
      },
      "source": [
        ""
      ],
      "execution_count": 0,
      "outputs": []
    }
  ]
}