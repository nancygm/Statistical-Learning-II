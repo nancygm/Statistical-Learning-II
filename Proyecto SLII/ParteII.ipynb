{
  "nbformat": 4,
  "nbformat_minor": 0,
  "metadata": {
    "colab": {
      "name": "CNN.ipynb",
      "provenance": [],
      "collapsed_sections": []
    },
    "kernelspec": {
      "name": "python3",
      "display_name": "Python 3"
    }
  },
  "cells": [
    {
      "cell_type": "markdown",
      "metadata": {
        "id": "DiD2V-Vj0XRQ",
        "colab_type": "text"
      },
      "source": [
        "# Parte II: Convolutional Network"
      ]
    },
    {
      "cell_type": "markdown",
      "metadata": {
        "id": "yM_oNdcP1hAD",
        "colab_type": "text"
      },
      "source": [
        "Nancy Patricia Girón Muñoz - Carné: 19007078\n",
        "\n",
        "Se utilizo un data set de mnist y proviene de la libreria keras. Nos da 70,000 imagenes en el dataset, 60,000 para train y 10,000 restantes para test.\n",
        "\n"
      ]
    },
    {
      "cell_type": "markdown",
      "metadata": {
        "id": "5qS0bxpr3fsm",
        "colab_type": "text"
      },
      "source": [
        "**Importamos los paquetes**"
      ]
    },
    {
      "cell_type": "code",
      "metadata": {
        "id": "VwREhZ3wSUr6",
        "colab_type": "code",
        "colab": {
          "base_uri": "https://localhost:8080/",
          "height": 34
        },
        "outputId": "0d27400f-eaf0-46ae-c7ab-d0c253096df0"
      },
      "source": [
        "from keras.datasets import mnist\n",
        "import matplotlib.pyplot as plt\n",
        "from keras.utils import to_categorical\n",
        "from keras.models import Sequential\n",
        "from keras.layers import Dense, Conv2D, Flatten"
      ],
      "execution_count": 3,
      "outputs": [
        {
          "output_type": "stream",
          "text": [
            "Using TensorFlow backend.\n"
          ],
          "name": "stderr"
        }
      ]
    },
    {
      "cell_type": "markdown",
      "metadata": {
        "id": "ON_h3KWl3yDp",
        "colab_type": "text"
      },
      "source": [
        "Separación de la data en train y test"
      ]
    },
    {
      "cell_type": "code",
      "metadata": {
        "id": "rCTeAjViScge",
        "colab_type": "code",
        "colab": {
          "base_uri": "https://localhost:8080/",
          "height": 320
        },
        "outputId": "6771b2e8-facf-44ff-9143-7be6bbd7de66"
      },
      "source": [
        "(X_train, y_train), (X_test, y_test) = mnist.load_data()\n",
        "plt.imshow(X_train[0])"
      ],
      "execution_count": 4,
      "outputs": [
        {
          "output_type": "stream",
          "text": [
            "Downloading data from https://s3.amazonaws.com/img-datasets/mnist.npz\n",
            "11493376/11490434 [==============================] - 0s 0us/step\n"
          ],
          "name": "stdout"
        },
        {
          "output_type": "execute_result",
          "data": {
            "text/plain": [
              "<matplotlib.image.AxesImage at 0x7f52a86608d0>"
            ]
          },
          "metadata": {
            "tags": []
          },
          "execution_count": 4
        },
        {
          "output_type": "display_data",
          "data": {
            "image/png": "[encoded data removed]",
            "text/plain": [
              "<Figure size 432x288 with 1 Axes>"
            ]
          },
          "metadata": {
            "tags": []
          }
        }
      ]
    },
    {
      "cell_type": "markdown",
      "metadata": {
        "id": "lmmuVJYI32kA",
        "colab_type": "text"
      },
      "source": [
        "Chequeamos el tamaño de la imagen"
      ]
    },
    {
      "cell_type": "code",
      "metadata": {
        "id": "3fOBirc0ShfT",
        "colab_type": "code",
        "colab": {
          "base_uri": "https://localhost:8080/",
          "height": 34
        },
        "outputId": "a0f91f34-ed9b-4669-a786-82997fff52ee"
      },
      "source": [
        "X_train[0].shape"
      ],
      "execution_count": 5,
      "outputs": [
        {
          "output_type": "execute_result",
          "data": {
            "text/plain": [
              "(28, 28)"
            ]
          },
          "metadata": {
            "tags": []
          },
          "execution_count": 5
        }
      ]
    },
    {
      "cell_type": "markdown",
      "metadata": {
        "id": "IXB-hRUK4CI2",
        "colab_type": "text"
      },
      "source": [
        "Cambiamos el tamaño de la data para el modelo."
      ]
    },
    {
      "cell_type": "code",
      "metadata": {
        "id": "5M7ZYYV2S9NX",
        "colab_type": "code",
        "colab": {}
      },
      "source": [
        "X_train = X_train.reshape(60000,28,28,1)\n",
        "X_test = X_test.reshape(10000,28,28,1)"
      ],
      "execution_count": 0,
      "outputs": []
    },
    {
      "cell_type": "code",
      "metadata": {
        "id": "ww-Rup1wS_0Z",
        "colab_type": "code",
        "colab": {
          "base_uri": "https://localhost:8080/",
          "height": 34
        },
        "outputId": "0ea52841-bcfc-4dd8-ad55-98a3d246bb75"
      },
      "source": [
        "#one-hot encode\n",
        "y_train = to_categorical(y_train)\n",
        "y_test = to_categorical(y_test)\n",
        "y_train[0]"
      ],
      "execution_count": 7,
      "outputs": [
        {
          "output_type": "execute_result",
          "data": {
            "text/plain": [
              "array([0., 0., 0., 0., 0., 1., 0., 0., 0., 0.], dtype=float32)"
            ]
          },
          "metadata": {
            "tags": []
          },
          "execution_count": 7
        }
      ]
    },
    {
      "cell_type": "markdown",
      "metadata": {
        "id": "aGyyZwGk4xZi",
        "colab_type": "text"
      },
      "source": [
        "**Modelo**"
      ]
    },
    {
      "cell_type": "code",
      "metadata": {
        "id": "U9bIxLJlTCFu",
        "colab_type": "code",
        "colab": {
          "base_uri": "https://localhost:8080/",
          "height": 615
        },
        "outputId": "9f13123c-950b-4ced-9a34-6a3df53aae20"
      },
      "source": [
        "model = Sequential()\n",
        "model.add(Conv2D(64, kernel_size=3, activation='relu', input_shape=(28,28,1)))\n",
        "model.add(Conv2D(32, kernel_size=3, activation='relu'))\n",
        "model.add(Flatten())\n",
        "model.add(Dense(10, activation='softmax'))\n",
        "model.compile(optimizer='adam', loss='categorical_crossentropy', metrics=['accuracy'])\n",
        "model_p = model.fit(X_train, y_train, validation_data=(X_test, y_test), epochs=3, batch_size=1000)\n",
        "model.predict(X_test[:4])"
      ],
      "execution_count": 8,
      "outputs": [
        {
          "output_type": "stream",
          "text": [
            "WARNING:tensorflow:From /usr/local/lib/python3.6/dist-packages/keras/backend/tensorflow_backend.py:66: The name tf.get_default_graph is deprecated. Please use tf.compat.v1.get_default_graph instead.\n",
            "\n",
            "WARNING:tensorflow:From /usr/local/lib/python3.6/dist-packages/keras/backend/tensorflow_backend.py:541: The name tf.placeholder is deprecated. Please use tf.compat.v1.placeholder instead.\n",
            "\n",
            "WARNING:tensorflow:From /usr/local/lib/python3.6/dist-packages/keras/backend/tensorflow_backend.py:4432: The name tf.random_uniform is deprecated. Please use tf.random.uniform instead.\n",
            "\n",
            "WARNING:tensorflow:From /usr/local/lib/python3.6/dist-packages/keras/optimizers.py:793: The name tf.train.Optimizer is deprecated. Please use tf.compat.v1.train.Optimizer instead.\n",
            "\n",
            "WARNING:tensorflow:From /usr/local/lib/python3.6/dist-packages/keras/backend/tensorflow_backend.py:3576: The name tf.log is deprecated. Please use tf.math.log instead.\n",
            "\n",
            "WARNING:tensorflow:From /usr/local/lib/python3.6/dist-packages/tensorflow/python/ops/math_grad.py:1250: add_dispatch_support.<locals>.wrapper (from tensorflow.python.ops.array_ops) is deprecated and will be removed in a future version.\n",
            "Instructions for updating:\n",
            "Use tf.where in 2.0, which has the same broadcast rule as np.where\n",
            "WARNING:tensorflow:From /usr/local/lib/python3.6/dist-packages/keras/backend/tensorflow_backend.py:1033: The name tf.assign_add is deprecated. Please use tf.compat.v1.assign_add instead.\n",
            "\n",
            "Train on 60000 samples, validate on 10000 samples\n",
            "Epoch 1/3\n",
            "60000/60000 [==============================] - 158s 3ms/step - loss: 1.7623 - acc: 0.8171 - val_loss: 0.1115 - val_acc: 0.9662\n",
            "Epoch 2/3\n",
            "60000/60000 [==============================] - 153s 3ms/step - loss: 0.0789 - acc: 0.9751 - val_loss: 0.0687 - val_acc: 0.9791\n",
            "Epoch 3/3\n",
            "60000/60000 [==============================] - 153s 3ms/step - loss: 0.0441 - acc: 0.9864 - val_loss: 0.0647 - val_acc: 0.9807\n"
          ],
          "name": "stdout"
        },
        {
          "output_type": "execute_result",
          "data": {
            "text/plain": [
              "array([[1.22070141e-08, 2.86953759e-11, 7.19368870e-07, 1.75479522e-06,\n",
              "        5.40705393e-13, 1.41724010e-09, 8.05693928e-15, 9.99997258e-01,\n",
              "        1.67761883e-07, 5.67407454e-08],\n",
              "       [7.58447140e-06, 4.17033807e-05, 9.99850392e-01, 2.98459581e-05,\n",
              "        7.97402500e-09, 3.13731596e-10, 5.03971787e-05, 2.50174777e-11,\n",
              "        2.00717495e-05, 2.12971252e-10],\n",
              "       [9.77629043e-07, 9.99886632e-01, 6.03322815e-06, 5.68802818e-07,\n",
              "        3.96262949e-05, 7.67284291e-06, 2.70474698e-06, 1.14817813e-05,\n",
              "        4.42261044e-05, 7.89974521e-08],\n",
              "       [9.99817073e-01, 1.55573976e-09, 7.68659083e-06, 1.03263176e-07,\n",
              "        6.21273921e-10, 3.71294995e-08, 1.92643583e-05, 3.29420686e-08,\n",
              "        1.28583721e-07, 1.55747461e-04]], dtype=float32)"
            ]
          },
          "metadata": {
            "tags": []
          },
          "execution_count": 8
        }
      ]
    },
    {
      "cell_type": "code",
      "metadata": {
        "id": "Noh8527FV2KM",
        "colab_type": "code",
        "colab": {
          "base_uri": "https://localhost:8080/",
          "height": 767
        },
        "outputId": "624dd188-7dd3-4343-9b12-a080989093f6"
      },
      "source": [
        "y_test[:4]\n",
        "\n",
        "plt.figure(0)  \n",
        "plt.plot(model_p.history['acc'],'r')  \n",
        "plt.plot(model_p.history['val_acc'],'g')   \n",
        "plt.rcParams['figure.figsize'] = (8, 6)  \n",
        "plt.xlabel(\"Epochs\")  \n",
        "plt.ylabel(\"Accuracy\")   \n",
        "plt.legend(['train'])\n",
        "\n",
        "plt.figure(1)  \n",
        "plt.plot(model_p.history['loss'],'r')  \n",
        "plt.plot(model_p.history['val_loss'],'g')    \n",
        "plt.rcParams['figure.figsize'] = (8, 6)  \n",
        "plt.xlabel(\"Epochs\")  \n",
        "plt.ylabel(\"Loss\")   \n",
        "plt.legend(['train'])\n",
        "\n",
        "plt.show()"
      ],
      "execution_count": 11,
      "outputs": [
        {
          "output_type": "display_data",
          "data": {
            "image/png": "[encoded data removed]",
            "text/plain": [
              "<Figure size 576x432 with 1 Axes>"
            ]
          },
          "metadata": {
            "tags": []
          }
        },
        {
          "output_type": "display_data",
          "data": {
            "image/png": "[encoded data removed]",
            "text/plain": [
              "<Figure size 576x432 with 1 Axes>"
            ]
          },
          "metadata": {
            "tags": []
          }
        }
      ]
    },
    {
      "cell_type": "markdown",
      "metadata": {
        "id": "ipjgFhjdCuIS",
        "colab_type": "text"
      },
      "source": [
        "**Conclusion**"
      ]
    },
    {
      "cell_type": "markdown",
      "metadata": {
        "id": "lB9MnjjHB3eH",
        "colab_type": "text"
      },
      "source": [
        "Se ajusta el modelo de redes neuronales convuncionales para clasificar las imagenes. Como se observa en las imagenes de accuracy y de loss se logro una precision arriba del 80% lo cual es un buen resultados ya que se logro predecir las imagenes. Es importante el uso de checkpoints para guardar estados de entrenamiento siempre se puede mejorar el modelo con diversos metodos. \n"
      ]
    }
  ]
}