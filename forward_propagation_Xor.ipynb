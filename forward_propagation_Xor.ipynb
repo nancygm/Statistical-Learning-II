{
  "nbformat": 4,
  "nbformat_minor": 0,
  "metadata": {
    "colab": {
      "name": "forward-propagation-Xor.ipynb",
      "provenance": []
    },
    "kernelspec": {
      "name": "python3",
      "display_name": "Python 3"
    }
  },
  "cells": [
    {
      "cell_type": "markdown",
      "metadata": {
        "id": "4hxPEoT_jRdE",
        "colab_type": "text"
      },
      "source": [
        "# forward-propagation Xor"
      ]
    },
    {
      "cell_type": "markdown",
      "metadata": {
        "id": "uEgIpGocjZMt",
        "colab_type": "text"
      },
      "source": [
        "Nancy Patricia Girón Muñoz - 19007078"
      ]
    },
    {
      "cell_type": "markdown",
      "metadata": {
        "id": "wnpV6k1OjeXx",
        "colab_type": "text"
      },
      "source": [
        "**Importando** **paquetes**"
      ]
    },
    {
      "cell_type": "code",
      "metadata": {
        "id": "MWmvSHW7dHF7",
        "colab_type": "code",
        "colab": {}
      },
      "source": [
        "import numpy as np\n",
        "import matplotlib.pyplot as plt"
      ],
      "execution_count": 0,
      "outputs": []
    },
    {
      "cell_type": "markdown",
      "metadata": {
        "id": "ev_YdFMxjilc",
        "colab_type": "text"
      },
      "source": [
        "**Funcion** **escalon** "
      ]
    },
    {
      "cell_type": "code",
      "metadata": {
        "id": "6ZuDW6LwzaSA",
        "colab_type": "code",
        "colab": {}
      },
      "source": [
        "def Escalon(x):\n",
        "    return (x >= 0).astype(np.float)"
      ],
      "execution_count": 0,
      "outputs": []
    },
    {
      "cell_type": "code",
      "metadata": {
        "id": "4LstEqVAz70B",
        "colab_type": "code",
        "colab": {
          "base_uri": "https://localhost:8080/",
          "height": 51
        },
        "outputId": "7f0845d4-682f-41f1-d70f-1ca74cda9a34"
      },
      "source": [
        "x = np.array([1, 0]).reshape(-1, 1)\n",
        "x"
      ],
      "execution_count": 81,
      "outputs": [
        {
          "output_type": "execute_result",
          "data": {
            "text/plain": [
              "array([[1],\n",
              "       [0]])"
            ]
          },
          "metadata": {
            "tags": []
          },
          "execution_count": 81
        }
      ]
    },
    {
      "cell_type": "code",
      "metadata": {
        "id": "HHK-ZXlUOGRs",
        "colab_type": "code",
        "colab": {}
      },
      "source": [
        "def ForwardXOR(x): \n",
        "  #Primera capa\n",
        "  P1 = np.array([[20., 20., -10.], [-20., -20., 30.]])\n",
        "  mul1 = np.matmul(P1, np.vstack((x, np.ones(x.shape[1]))))\n",
        "  act1 = Escalon(mul1)\n",
        "\n",
        "  #Segunda capa\n",
        "  P2 = np.array([[20, 20, -30]])\n",
        "  mul2 = np.matmul(P2, np.vstack((act1, np.ones(act1.shape[1]))))\n",
        "  act2 = Escalon(mul2)\n",
        "   \n",
        "  return act2, act1"
      ],
      "execution_count": 0,
      "outputs": []
    },
    {
      "cell_type": "code",
      "metadata": {
        "id": "1l1a1r_cSVlO",
        "colab_type": "code",
        "colab": {
          "base_uri": "https://localhost:8080/",
          "height": 51
        },
        "outputId": "6c1aa48f-914f-462c-a419-a3893e71e90d"
      },
      "source": [
        "X = (np.array([[0,0], [0,1], [1,0], [1,1]])).T\n",
        "X "
      ],
      "execution_count": 82,
      "outputs": [
        {
          "output_type": "execute_result",
          "data": {
            "text/plain": [
              "array([[0, 0, 1, 1],\n",
              "       [0, 1, 0, 1]])"
            ]
          },
          "metadata": {
            "tags": []
          },
          "execution_count": 82
        }
      ]
    },
    {
      "cell_type": "code",
      "metadata": {
        "id": "vgAONwxySbDY",
        "colab_type": "code",
        "colab": {}
      },
      "source": [
        "act2, act1 = ForwardXOR(X)"
      ],
      "execution_count": 0,
      "outputs": []
    },
    {
      "cell_type": "markdown",
      "metadata": {
        "id": "2bcbifxVkBgb",
        "colab_type": "text"
      },
      "source": [
        "**Grafica** **de** **capa** **oculta** "
      ]
    },
    {
      "cell_type": "code",
      "metadata": {
        "id": "yG8bE8ORS4TA",
        "colab_type": "code",
        "colab": {
          "base_uri": "https://localhost:8080/",
          "height": 390
        },
        "outputId": "a8fe69c9-a814-49e6-e744-986f34dba8dd"
      },
      "source": [
        "def grafica(x1, x2, y):\n",
        "    abso = np.abs(y-1) < 0.1\n",
        "    graf = np.logical_not(abso)\n",
        "    plt.scatter(x1[abso], x2[abso], marker='o', label='1', c='#2ca02c') \n",
        "    plt.scatter(x1[graf], x2[graf], marker='X', label='0', c='#d62728')\n",
        "    plt.legend()\n",
        "    \n",
        "x1 = X[0, :]\n",
        "x2 = X[1, :]\n",
        "\n",
        "plt.figure(figsize=(17, 6))\n",
        "plt.subplot(1,3,1)\n",
        "grafica(x1, x2, act1[0, :])\n",
        "plt.title(\"Primera capa h1\")\n",
        "plt.subplot(1,3,2)\n",
        "grafica(x1, x2, act1[1, :])\n",
        "plt.title(\"Primera capa h2\")\n",
        "plt.subplot(1,3,3)\n",
        "grafica(x1, x2, act2.squeeze())\n",
        "plt.title(\"Capa de salida\");"
      ],
      "execution_count": 91,
      "outputs": [
        {
          "output_type": "display_data",
          "data": {
            "image/png": "[encoded data removed]",
            "text/plain": [
              "<Figure size 1224x432 with 3 Axes>"
            ]
          },
          "metadata": {
            "tags": []
          }
        }
      ]
    },
    {
      "cell_type": "code",
      "metadata": {
        "id": "-pBGs4-iZllv",
        "colab_type": "code",
        "colab": {}
      },
      "source": [
        ""
      ],
      "execution_count": 0,
      "outputs": []
    }
  ]
}