{
  "nbformat": 4,
  "nbformat_minor": 0,
  "metadata": {
    "colab": {
      "name": "Backpropagation.ipynb",
      "provenance": []
    },
    "kernelspec": {
      "name": "python3",
      "display_name": "Python 3"
    }
  },
  "cells": [
    {
      "cell_type": "markdown",
      "metadata": {
        "id": "3LYeRHGS7h90",
        "colab_type": "text"
      },
      "source": [
        "# Backpropagation"
      ]
    },
    {
      "cell_type": "markdown",
      "metadata": {
        "id": "Ieteog0o8HIy",
        "colab_type": "text"
      },
      "source": [
        "Nancy Patricia Girón Muñoz - 19007078"
      ]
    },
    {
      "cell_type": "code",
      "metadata": {
        "id": "HIATRsAE47fJ",
        "colab_type": "code",
        "colab": {}
      },
      "source": [
        "import numpy as np"
      ],
      "execution_count": 0,
      "outputs": []
    },
    {
      "cell_type": "code",
      "metadata": {
        "id": "DAQP_2l9490C",
        "colab_type": "code",
        "colab": {}
      },
      "source": [
        "data_prueba = np.array([[0,0],[0,1],[1,0],[1,1]])\n",
        "out = np.array([[0],[1],[1],[0]])\n",
        "W = np.random.uniform(size=(2,2))\n",
        "bias = np.random.uniform(size=(1,2))\n",
        "W_out = np.random.uniform(size=(2,1))\n",
        "bias_out = np.random.uniform(size=(1,1))\n",
        "lr = 0.1\n",
        "epochs = 1000"
      ],
      "execution_count": 0,
      "outputs": []
    },
    {
      "cell_type": "code",
      "metadata": {
        "id": "LHxCHGWT5EtS",
        "colab_type": "code",
        "colab": {}
      },
      "source": [
        "def sigmoid(x):\n",
        "    return 1/(1 + np.exp(-x))\n",
        "  \n",
        "  \n",
        "def sigmoid_d(x):\n",
        "    return x*(1-x)  "
      ],
      "execution_count": 0,
      "outputs": []
    },
    {
      "cell_type": "code",
      "metadata": {
        "id": "IkOLqHEs560u",
        "colab_type": "code",
        "colab": {
          "base_uri": "https://localhost:8080/",
          "height": 85
        },
        "outputId": "7f429293-f28f-4300-cdfe-52e224a17a5c"
      },
      "source": [
        "for epoch in range(epochs):\n",
        "\tg = np.dot(data_prueba,W)\n",
        "\tg += bias\n",
        "\tgout = sigmoid(g)\n",
        "\toutput = np.dot(gout,W_out)\n",
        "\toutput += bias_out\n",
        "\tprediccion = sigmoid(output)\n",
        "\tcost = out-prediccion\n",
        "\tderivada1 = cost*sigmoid_d(prediccion)\t\n",
        "\tcost_h = derivada1.dot(W_out.T)\n",
        "\tderivada2 = cost_h * sigmoid_d(h_out)\t\n",
        "\tW_out += h_out.T.dot(derivada1) * lr\n",
        "\tbias_out += np.sum(derivada1,axis=0,keepdims=True)*lr\n",
        "\tW += data_prueba.T.dot(derivada2)*lr\n",
        "\tbias += np.sum(derivada2,axis=0,keepdims=True)*lr \n",
        "print(prediccion)"
      ],
      "execution_count": 15,
      "outputs": [
        {
          "output_type": "stream",
          "text": [
            "[[0.49239763]\n",
            " [0.50458345]\n",
            " [0.49710548]\n",
            " [0.50826923]]\n"
          ],
          "name": "stdout"
        }
      ]
    }
  ]
}